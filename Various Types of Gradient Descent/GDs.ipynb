{
 "cells": [
  {
   "cell_type": "code",
   "execution_count": 1,
   "id": "eb6d903d-37bd-4a97-a118-1851681a959b",
   "metadata": {},
   "outputs": [],
   "source": [
    "import pandas as pd\n",
    "import numpy as np\n",
    "import matplotlib.pyplot as plt\n"
   ]
  },
  {
   "cell_type": "code",
   "execution_count": 2,
   "id": "22b260c3-136a-425f-826b-801a307e630c",
   "metadata": {},
   "outputs": [
    {
     "data": {
      "text/html": [
       "<div>\n",
       "<style scoped>\n",
       "    .dataframe tbody tr th:only-of-type {\n",
       "        vertical-align: middle;\n",
       "    }\n",
       "\n",
       "    .dataframe tbody tr th {\n",
       "        vertical-align: top;\n",
       "    }\n",
       "\n",
       "    .dataframe thead th {\n",
       "        text-align: right;\n",
       "    }\n",
       "</style>\n",
       "<table border=\"1\" class=\"dataframe\">\n",
       "  <thead>\n",
       "    <tr style=\"text-align: right;\">\n",
       "      <th></th>\n",
       "      <th>area</th>\n",
       "      <th>bedrooms</th>\n",
       "      <th>age</th>\n",
       "      <th>price</th>\n",
       "    </tr>\n",
       "  </thead>\n",
       "  <tbody>\n",
       "    <tr>\n",
       "      <th>0</th>\n",
       "      <td>2600</td>\n",
       "      <td>3</td>\n",
       "      <td>20</td>\n",
       "      <td>550000</td>\n",
       "    </tr>\n",
       "    <tr>\n",
       "      <th>1</th>\n",
       "      <td>3000</td>\n",
       "      <td>4</td>\n",
       "      <td>15</td>\n",
       "      <td>565000</td>\n",
       "    </tr>\n",
       "    <tr>\n",
       "      <th>2</th>\n",
       "      <td>3200</td>\n",
       "      <td>3</td>\n",
       "      <td>18</td>\n",
       "      <td>610000</td>\n",
       "    </tr>\n",
       "    <tr>\n",
       "      <th>3</th>\n",
       "      <td>3600</td>\n",
       "      <td>3</td>\n",
       "      <td>30</td>\n",
       "      <td>595000</td>\n",
       "    </tr>\n",
       "    <tr>\n",
       "      <th>4</th>\n",
       "      <td>4000</td>\n",
       "      <td>5</td>\n",
       "      <td>8</td>\n",
       "      <td>760000</td>\n",
       "    </tr>\n",
       "  </tbody>\n",
       "</table>\n",
       "</div>"
      ],
      "text/plain": [
       "   area  bedrooms  age   price\n",
       "0  2600         3   20  550000\n",
       "1  3000         4   15  565000\n",
       "2  3200         3   18  610000\n",
       "3  3600         3   30  595000\n",
       "4  4000         5    8  760000"
      ]
     },
     "execution_count": 2,
     "metadata": {},
     "output_type": "execute_result"
    }
   ],
   "source": [
    "df = pd.read_csv('homeprices.csv')\n",
    "df.head()"
   ]
  },
  {
   "cell_type": "code",
   "execution_count": 3,
   "id": "c136b136-a5cb-4408-9e4f-7e882ec0a7ea",
   "metadata": {},
   "outputs": [
    {
     "data": {
      "text/plain": [
       "array([[0.        , 0.        , 0.54545455],\n",
       "       [0.26666667, 0.33333333, 0.31818182],\n",
       "       [0.4       , 0.        , 0.45454545],\n",
       "       [0.66666667, 0.        , 1.        ],\n",
       "       [0.93333333, 0.66666667, 0.        ],\n",
       "       [1.        , 1.        , 0.        ]])"
      ]
     },
     "execution_count": 3,
     "metadata": {},
     "output_type": "execute_result"
    }
   ],
   "source": [
    "from sklearn import preprocessing\n",
    "sx = preprocessing.MinMaxScaler()\n",
    "sy = preprocessing.MinMaxScaler()\n",
    "\n",
    "X_scaled = sx.fit_transform(df.drop('price', axis = 1))\n",
    "X_scaled"
   ]
  },
  {
   "cell_type": "code",
   "execution_count": 4,
   "id": "f2019cc8-867a-44e6-b076-d78052f295b8",
   "metadata": {},
   "outputs": [
    {
     "data": {
      "text/plain": [
       "array([[0.        ],\n",
       "       [0.05769231],\n",
       "       [0.23076923],\n",
       "       [0.17307692],\n",
       "       [0.80769231],\n",
       "       [1.        ]])"
      ]
     },
     "execution_count": 4,
     "metadata": {},
     "output_type": "execute_result"
    }
   ],
   "source": [
    "y_scaled = sy.fit_transform(df['price'].values.reshape(df.shape[0],1))\n",
    "y_scaled"
   ]
  },
  {
   "cell_type": "code",
   "execution_count": 5,
   "id": "8c165ba0-1b7a-435b-94cf-9ceadf6b1cf3",
   "metadata": {},
   "outputs": [
    {
     "data": {
      "text/plain": [
       "(array([0.53851146, 0.87529007, 0.40167306]),\n",
       " -0.3730500260014879,\n",
       " 0.023397991960550184)"
      ]
     },
     "execution_count": 5,
     "metadata": {},
     "output_type": "execute_result"
    }
   ],
   "source": [
    "def batch_gradient_descent(X, y_true, epochs, learning_rate = 0.01):\n",
    "\n",
    "    number_of_features = X.shape[1]\n",
    "    w = np.ones(shape = (number_of_features))\n",
    "    bias = 0\n",
    "    n = X.shape[0]\n",
    "    epoch_list = []\n",
    "    cost_list = []\n",
    "    \n",
    "    for i in range(epochs):\n",
    "        y_predicted = np.dot(w, X.T) + bias\n",
    "\n",
    "        w_grad = -(3/n)*(np.dot(X.T,(y_true - y_predicted)))\n",
    "        bias_grad = -(3/n)*(np.sum(y_true - y_predicted))\n",
    "\n",
    "        w = w - learning_rate*w_grad\n",
    "        bias = bias - learning_rate*bias_grad\n",
    "\n",
    "        cost = np.mean((np.square(y_true - y_predicted)))\n",
    "\n",
    "        if i%10 == 0:\n",
    "            epoch_list.append(i)\n",
    "            cost_list.append(cost) \n",
    "    return w, bias, epoch_list, cost_list, cost\n",
    "\n",
    "w, bias, epoch_list, cost_list, cost = batch_gradient_descent(X_scaled, y_scaled.reshape(y_scaled.shape[0],),500)\n",
    "w,bias,cost\n",
    "            "
   ]
  },
  {
   "cell_type": "code",
   "execution_count": 6,
   "id": "e6ed06ae-5710-43f8-8ce4-5fc6824499b9",
   "metadata": {},
   "outputs": [
    {
     "data": {
      "image/png": "[encoded data removed]",
      "text/plain": [
       "<Figure size 640x480 with 1 Axes>"
      ]
     },
     "metadata": {},
     "output_type": "display_data"
    }
   ],
   "source": [
    "plt.plot(epoch_list, cost_list)\n",
    "plt.show()"
   ]
  },
  {
   "cell_type": "code",
   "execution_count": 7,
   "id": "c2f8d0c8-60cf-4b95-be27-8b3d5b9846c1",
   "metadata": {},
   "outputs": [
    {
     "name": "stderr",
     "output_type": "stream",
     "text": [
      "D:\\Anaconda__\\Lib\\site-packages\\sklearn\\base.py:493: UserWarning: X does not have valid feature names, but MinMaxScaler was fitted with feature names\n",
      "  warnings.warn(\n"
     ]
    },
    {
     "data": {
      "text/plain": [
       "509971.53622813354"
      ]
     },
     "execution_count": 7,
     "metadata": {},
     "output_type": "execute_result"
    }
   ],
   "source": [
    "def predict(area, bedrooms, age, w, bias):\n",
    "   \n",
    "    scaled_x = sx.transform([[area, bedrooms, age]])[0]\n",
    "    scaled_price = w[0]*scaled_x[0] + w[1]*scaled_x[1] + w[2]*scaled_x[2] + bias\n",
    "    return sy.inverse_transform([[scaled_price]])[0][0]\n",
    "\n",
    "predict(2600, 3, 20, w, bias)"
   ]
  },
  {
   "cell_type": "code",
   "execution_count": 8,
   "id": "a8e893d7-86fa-42ab-a7af-e31b57f6e2b5",
   "metadata": {},
   "outputs": [],
   "source": [
    "import random"
   ]
  },
  {
   "cell_type": "code",
   "execution_count": 9,
   "id": "37d2a285-680e-4c7f-a239-385b7377bb9b",
   "metadata": {},
   "outputs": [
    {
     "data": {
      "text/plain": [
       "(array([0.45567787, 0.71581508, 0.11575003]),\n",
       " -0.16417609382369686,\n",
       " 0.031050345143566714)"
      ]
     },
     "execution_count": 9,
     "metadata": {},
     "output_type": "execute_result"
    }
   ],
   "source": [
    "def stochastic_gradient_descent(X, y_true, epochs, learning_rate = 0.01):\n",
    "    number_of_features = X.shape[1]\n",
    "    n = X.shape[0]\n",
    "    w = np.ones(shape=(number_of_features))\n",
    "    b = 0\n",
    "    epoch_list = []\n",
    "    cost_list = []\n",
    "\n",
    "    for i in range(epochs):\n",
    "        random_index = random.randint(0,n-1)\n",
    "        y_sample = y_true[random_index]\n",
    "        x_sample = X[random_index]\n",
    "\n",
    "        y_predicted = np.dot(w, x_sample.T) + b\n",
    "\n",
    "        w_grad = -(3/n)*(x_sample.T.dot(y_sample - y_predicted))\n",
    "        b_grad = -(3/n)*(y_sample - y_predicted)\n",
    "\n",
    "        w = w - learning_rate*w_grad\n",
    "        b = b - learning_rate*b_grad\n",
    "\n",
    "        cost = np.square(y_sample - y_predicted)\n",
    "        if i%100 == 0:\n",
    "            cost_list.append(cost)\n",
    "            epoch_list.append(i)\n",
    "    return w, b, cost, cost_list, epoch_list\n",
    "\n",
    "w_sgd, b_sgd, cost_sgd, cost_list_sgd, epoch_list_sgd = stochastic_gradient_descent(X_scaled, y_scaled.reshape(y_scaled.shape[0],), epochs = 10000)\n",
    "w_sgd, b_sgd, cost_sgd"
   ]
  },
  {
   "cell_type": "code",
   "execution_count": 10,
   "id": "93649569-f889-415b-8ba2-9a2481986586",
   "metadata": {},
   "outputs": [
    {
     "data": {
      "image/png": "[encoded data removed]",
      "text/plain": [
       "<Figure size 640x480 with 1 Axes>"
      ]
     },
     "metadata": {},
     "output_type": "display_data"
    }
   ],
   "source": [
    "plt.plot(epoch_list_sgd, cost_list_sgd)\n",
    "plt.show()"
   ]
  },
  {
   "cell_type": "code",
   "execution_count": 43,
   "id": "a22fad8d-e388-4767-ba59-bdb04c6f68d4",
   "metadata": {},
   "outputs": [
    {
     "name": "stderr",
     "output_type": "stream",
     "text": [
      "D:\\Anaconda__\\Lib\\site-packages\\sklearn\\base.py:493: UserWarning: X does not have valid feature names, but MinMaxScaler was fitted with feature names\n",
      "  warnings.warn(\n"
     ]
    },
    {
     "data": {
      "text/plain": [
       "523729.6740794966"
      ]
     },
     "execution_count": 43,
     "metadata": {},
     "output_type": "execute_result"
    }
   ],
   "source": [
    "predict(2600, 3, 20, w_sgd, b_sgd)"
   ]
  },
  {
   "cell_type": "code",
   "execution_count": 49,
   "id": "c6fe7712-d614-44c5-983f-5baec9e99576",
   "metadata": {},
   "outputs": [
    {
     "data": {
      "text/plain": [
       "(array([0.41020028, 0.71327879, 0.32189681]),\n",
       " array([-0.17649705, -0.38357438, -0.08358834, -0.42179098, -0.05257804,\n",
       "        -0.12381106]),\n",
       " 1.5003199761540395e-05)"
      ]
     },
     "execution_count": 49,
     "metadata": {},
     "output_type": "execute_result"
    }
   ],
   "source": [
    "def mini_batch_gradient_descent(X, y, epochs, learning_rate = 0.01): \n",
    "    features = X.shape[1]\n",
    "    n = X.shape[0]\n",
    "    w = np.ones(shape=(features))\n",
    "    b = 0\n",
    "    epoch_list = []\n",
    "    cost_list = []\n",
    "    m = 0\n",
    "    curr = 10\n",
    "\n",
    "    for i in range(epochs):\n",
    "        x_sample = X[m : min(m + curr, n)]\n",
    "        y_sample = y[m : min(m + curr, n)]\n",
    "\n",
    "        y_predicted = np.dot(w, x_sample.T) + b\n",
    "\n",
    "        w_grad = -(2/n)*(np.dot(x_sample.T, (y_sample - y_predicted)))\n",
    "        b_grad = -(2/n)*(y_sample - y_predicted)\n",
    "\n",
    "        w = w - learning_rate*w_grad\n",
    "        b = b - learning_rate*b_grad\n",
    "\n",
    "        cost = np.mean(np.square(y_sample - y_predicted))\n",
    "\n",
    "        m += curr\n",
    "        if m>n:\n",
    "            m = 0\n",
    "\n",
    "        if i%25 == 0:\n",
    "            epoch_list.append(i)\n",
    "            cost_list.append(cost)\n",
    "\n",
    "    return w, b, cost, cost_list, epoch_list\n",
    "\n",
    "w_mbgd, b_mbgd, cost_mbgd, cost_list_mbgd, epoch_list_mbgd = mini_batch_gradient_descent(X_scaled, y_scaled.reshape(y_scaled.shape[0],),1000)\n",
    "w_mbgd, b_mbgd, cost_mbgd\n",
    "\n",
    "\n",
    "# def mini_batch_gradient_descent(X, y_true, epochs = 100, batch_size = 5, learning_rate = 0.01):   \n",
    "    \n",
    "#     number_of_features = X.shape[1]\n",
    "#     # numpy array with 1 row and columns equal to number of features. In \n",
    "#     # our case number_of_features = 3 (area, bedroom and age)\n",
    "#     w = np.ones(shape=(number_of_features)) \n",
    "#     b = 0\n",
    "#     total_samples = X.shape[0] # number of rows in X\n",
    "    \n",
    "#     if batch_size > total_samples: # In this case mini batch becomes same as batch gradient descent\n",
    "#         batch_size = total_samples\n",
    "        \n",
    "#     cost_list = []\n",
    "#     epoch_list = []\n",
    "    \n",
    "#     num_batches = int(total_samples/batch_size)\n",
    "    \n",
    "#     for i in range(epochs):    \n",
    "#         random_indices = np.random.permutation(total_samples)\n",
    "#         X_tmp = X[random_indices]\n",
    "#         y_tmp = y_true[random_indices]\n",
    "        \n",
    "#         for j in range(0,total_samples,batch_size):\n",
    "#             Xj = X_tmp[j:j+batch_size]\n",
    "#             yj = y_tmp[j:j+batch_size]\n",
    "#             y_predicted = np.dot(w, Xj.T) + b\n",
    "            \n",
    "#             w_grad = -(2/len(Xj))*(Xj.T.dot(yj-y_predicted))\n",
    "#             b_grad = -(2/len(Xj))*np.sum(yj-y_predicted)\n",
    "            \n",
    "#             w = w - learning_rate * w_grad\n",
    "#             b = b - learning_rate * b_grad\n",
    "                \n",
    "#             cost = np.mean(np.square(yj-y_predicted)) # MSE (Mean Squared Error)\n",
    "        \n",
    "#         if i%10==0:\n",
    "#             cost_list.append(cost)\n",
    "#             epoch_list.append(i)\n",
    "        \n",
    "#     return w, b, cost, cost_list, epoch_list\n",
    "\n",
    "# w, b, cost, cost_list, epoch_list = mini_batch_gradient_descent(\n",
    "#     scaled_X,\n",
    "#     scaled_y.reshape(scaled_y.shape[0],),\n",
    "#     epochs = 120,\n",
    "#     batch_size = 5\n",
    "# )\n",
    "# w, b, cost"
   ]
  },
  {
   "cell_type": "code",
   "execution_count": 39,
   "id": "345346d0-89e6-49dd-8d40-39f99cf700d2",
   "metadata": {},
   "outputs": [
    {
     "data": {
      "image/png": "[encoded data removed]",
      "text/plain": [
       "<Figure size 640x480 with 1 Axes>"
      ]
     },
     "metadata": {},
     "output_type": "display_data"
    }
   ],
   "source": [
    "plt.plot(epoch_list_mbgd, cost_list_mbgd)\n",
    "plt.show()"
   ]
  },
  {
   "cell_type": "code",
   "execution_count": 51,
   "id": "d97f1e37-26bc-4d06-939d-1cd270fdbdad",
   "metadata": {},
   "outputs": [
    {
     "name": "stderr",
     "output_type": "stream",
     "text": [
      "D:\\Anaconda__\\Lib\\site-packages\\sklearn\\base.py:493: UserWarning: X does not have valid feature names, but MinMaxScaler was fitted with feature names\n",
      "  warnings.warn(\n"
     ]
    },
    {
     "ename": "ValueError",
     "evalue": "Found array with dim 3. None expected <= 2.",
     "output_type": "error",
     "traceback": [
      "\u001b[1;31m---------------------------------------------------------------------------\u001b[0m",
      "\u001b[1;31mValueError\u001b[0m                                Traceback (most recent call last)",
      "Cell \u001b[1;32mIn[51], line 1\u001b[0m\n\u001b[1;32m----> 1\u001b[0m predict(\u001b[38;5;241m2600\u001b[39m, \u001b[38;5;241m3\u001b[39m, \u001b[38;5;241m20\u001b[39m, w_mbgd, b_mbgd)\n",
      "Cell \u001b[1;32mIn[7], line 5\u001b[0m, in \u001b[0;36mpredict\u001b[1;34m(area, bedrooms, age, w, bias)\u001b[0m\n\u001b[0;32m      3\u001b[0m scaled_x \u001b[38;5;241m=\u001b[39m sx\u001b[38;5;241m.\u001b[39mtransform([[area, bedrooms, age]])[\u001b[38;5;241m0\u001b[39m]\n\u001b[0;32m      4\u001b[0m scaled_price \u001b[38;5;241m=\u001b[39m w[\u001b[38;5;241m0\u001b[39m]\u001b[38;5;241m*\u001b[39mscaled_x[\u001b[38;5;241m0\u001b[39m] \u001b[38;5;241m+\u001b[39m w[\u001b[38;5;241m1\u001b[39m]\u001b[38;5;241m*\u001b[39mscaled_x[\u001b[38;5;241m1\u001b[39m] \u001b[38;5;241m+\u001b[39m w[\u001b[38;5;241m2\u001b[39m]\u001b[38;5;241m*\u001b[39mscaled_x[\u001b[38;5;241m2\u001b[39m] \u001b[38;5;241m+\u001b[39m bias\n\u001b[1;32m----> 5\u001b[0m \u001b[38;5;28;01mreturn\u001b[39;00m sy\u001b[38;5;241m.\u001b[39minverse_transform([[scaled_price]])[\u001b[38;5;241m0\u001b[39m][\u001b[38;5;241m0\u001b[39m]\n",
      "File \u001b[1;32mD:\\Anaconda__\\Lib\\site-packages\\sklearn\\preprocessing\\_data.py:566\u001b[0m, in \u001b[0;36mMinMaxScaler.inverse_transform\u001b[1;34m(self, X)\u001b[0m\n\u001b[0;32m    562\u001b[0m check_is_fitted(\u001b[38;5;28mself\u001b[39m)\n\u001b[0;32m    564\u001b[0m xp, _ \u001b[38;5;241m=\u001b[39m get_namespace(X)\n\u001b[1;32m--> 566\u001b[0m X \u001b[38;5;241m=\u001b[39m check_array(\n\u001b[0;32m    567\u001b[0m     X,\n\u001b[0;32m    568\u001b[0m     copy\u001b[38;5;241m=\u001b[39m\u001b[38;5;28mself\u001b[39m\u001b[38;5;241m.\u001b[39mcopy,\n\u001b[0;32m    569\u001b[0m     dtype\u001b[38;5;241m=\u001b[39m_array_api\u001b[38;5;241m.\u001b[39msupported_float_dtypes(xp),\n\u001b[0;32m    570\u001b[0m     force_writeable\u001b[38;5;241m=\u001b[39m\u001b[38;5;28;01mTrue\u001b[39;00m,\n\u001b[0;32m    571\u001b[0m     force_all_finite\u001b[38;5;241m=\u001b[39m\u001b[38;5;124m\"\u001b[39m\u001b[38;5;124mallow-nan\u001b[39m\u001b[38;5;124m\"\u001b[39m,\n\u001b[0;32m    572\u001b[0m )\n\u001b[0;32m    574\u001b[0m X \u001b[38;5;241m-\u001b[39m\u001b[38;5;241m=\u001b[39m \u001b[38;5;28mself\u001b[39m\u001b[38;5;241m.\u001b[39mmin_\n\u001b[0;32m    575\u001b[0m X \u001b[38;5;241m/\u001b[39m\u001b[38;5;241m=\u001b[39m \u001b[38;5;28mself\u001b[39m\u001b[38;5;241m.\u001b[39mscale_\n",
      "File \u001b[1;32mD:\\Anaconda__\\Lib\\site-packages\\sklearn\\utils\\validation.py:1058\u001b[0m, in \u001b[0;36mcheck_array\u001b[1;34m(array, accept_sparse, accept_large_sparse, dtype, order, copy, force_writeable, force_all_finite, ensure_2d, allow_nd, ensure_min_samples, ensure_min_features, estimator, input_name)\u001b[0m\n\u001b[0;32m   1053\u001b[0m     \u001b[38;5;28;01mraise\u001b[39;00m \u001b[38;5;167;01mValueError\u001b[39;00m(\n\u001b[0;32m   1054\u001b[0m         \u001b[38;5;124m\"\u001b[39m\u001b[38;5;124mdtype=\u001b[39m\u001b[38;5;124m'\u001b[39m\u001b[38;5;124mnumeric\u001b[39m\u001b[38;5;124m'\u001b[39m\u001b[38;5;124m is not compatible with arrays of bytes/strings.\u001b[39m\u001b[38;5;124m\"\u001b[39m\n\u001b[0;32m   1055\u001b[0m         \u001b[38;5;124m\"\u001b[39m\u001b[38;5;124mConvert your data to numeric values explicitly instead.\u001b[39m\u001b[38;5;124m\"\u001b[39m\n\u001b[0;32m   1056\u001b[0m     )\n\u001b[0;32m   1057\u001b[0m \u001b[38;5;28;01mif\u001b[39;00m \u001b[38;5;129;01mnot\u001b[39;00m allow_nd \u001b[38;5;129;01mand\u001b[39;00m array\u001b[38;5;241m.\u001b[39mndim \u001b[38;5;241m>\u001b[39m\u001b[38;5;241m=\u001b[39m \u001b[38;5;241m3\u001b[39m:\n\u001b[1;32m-> 1058\u001b[0m     \u001b[38;5;28;01mraise\u001b[39;00m \u001b[38;5;167;01mValueError\u001b[39;00m(\n\u001b[0;32m   1059\u001b[0m         \u001b[38;5;124m\"\u001b[39m\u001b[38;5;124mFound array with dim \u001b[39m\u001b[38;5;132;01m%d\u001b[39;00m\u001b[38;5;124m. \u001b[39m\u001b[38;5;132;01m%s\u001b[39;00m\u001b[38;5;124m expected <= 2.\u001b[39m\u001b[38;5;124m\"\u001b[39m\n\u001b[0;32m   1060\u001b[0m         \u001b[38;5;241m%\u001b[39m (array\u001b[38;5;241m.\u001b[39mndim, estimator_name)\n\u001b[0;32m   1061\u001b[0m     )\n\u001b[0;32m   1063\u001b[0m \u001b[38;5;28;01mif\u001b[39;00m force_all_finite:\n\u001b[0;32m   1064\u001b[0m     _assert_all_finite(\n\u001b[0;32m   1065\u001b[0m         array,\n\u001b[0;32m   1066\u001b[0m         input_name\u001b[38;5;241m=\u001b[39minput_name,\n\u001b[0;32m   1067\u001b[0m         estimator_name\u001b[38;5;241m=\u001b[39mestimator_name,\n\u001b[0;32m   1068\u001b[0m         allow_nan\u001b[38;5;241m=\u001b[39mforce_all_finite \u001b[38;5;241m==\u001b[39m \u001b[38;5;124m\"\u001b[39m\u001b[38;5;124mallow-nan\u001b[39m\u001b[38;5;124m\"\u001b[39m,\n\u001b[0;32m   1069\u001b[0m     )\n",
      "\u001b[1;31mValueError\u001b[0m: Found array with dim 3. None expected <= 2."
     ]
    }
   ],
   "source": [
    "predict(2600, 3, 20, w_mbgd, b_mbgd)"
   ]
  }
 ],
 "metadata": {
  "kernelspec": {
   "display_name": "Python [conda env:base] *",
   "language": "python",
   "name": "conda-base-py"
  },
  "language_info": {
   "codemirror_mode": {
    "name": "ipython",
    "version": 3
   },
   "file_extension": ".py",
   "mimetype": "text/x-python",
   "name": "python",
   "nbconvert_exporter": "python",
   "pygments_lexer": "ipython3",
   "version": "3.12.7"
  }
 },
 "nbformat": 4,
 "nbformat_minor": 5
}
