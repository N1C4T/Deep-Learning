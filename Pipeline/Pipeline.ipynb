{
 "cells": [
  {
   "cell_type": "code",
   "execution_count": 103,
   "id": "b3240e13-cd44-4e73-9475-41638015506e",
   "metadata": {},
   "outputs": [],
   "source": [
    "import tensorflow as tf"
   ]
  },
  {
   "cell_type": "code",
   "execution_count": 104,
   "id": "a031ae5c-2187-485d-aa2b-b4f8dc3ce131",
   "metadata": {},
   "outputs": [
    {
     "name": "stdout",
     "output_type": "stream",
     "text": [
      "b'reviews\\\\negative\\\\neg_1.txt'\n",
      "b'reviews\\\\negative\\\\neg_2.txt'\n",
      "b'reviews\\\\negative\\\\neg_3.txt'\n",
      "b'reviews\\\\positive\\\\pos_1.txt'\n",
      "b'reviews\\\\positive\\\\pos_2.txt'\n",
      "b'reviews\\\\positive\\\\pos_3.txt'\n"
     ]
    }
   ],
   "source": [
    "tf_dataset = tf.data.Dataset.list_files('reviews/*/*', shuffle =False)\n",
    "for i in tf_dataset:\n",
    "    print(i.numpy())"
   ]
  },
  {
   "cell_type": "code",
   "execution_count": 105,
   "id": "6feb805b-fb62-4478-b626-906a546fad06",
   "metadata": {},
   "outputs": [],
   "source": [
    "def extract_review_and_label(file_path):\n",
    "    import os\n",
    "    return tf.io.read_file(file_path), tf.strings.split(file_path, os.path.sep)[-2]"
   ]
  },
  {
   "cell_type": "code",
   "execution_count": 113,
   "id": "1594a49d-2423-4912-a0c8-14b4f01058c3",
   "metadata": {},
   "outputs": [
    {
     "name": "stdout",
     "output_type": "stream",
     "text": [
      "review:  b\"Basically there's a family where a little boy (Jak\"\n",
      "label: b'negative'\n",
      "review:  b'This show was an amazing, fresh & innovative idea '\n",
      "label: b'negative'\n",
      "review:  b''\n",
      "label: b'negative'\n",
      "review:  b'One of the other reviewers has mentioned that afte'\n",
      "label: b'positive'\n",
      "review:  b'A wonderful little production. <br /><br />The fil'\n",
      "label: b'positive'\n",
      "review:  b''\n",
      "label: b'positive'\n"
     ]
    }
   ],
   "source": [
    "review_ds = tf_dataset.map(extract_review_and_label)\n",
    "for review, label in reviews_ds:\n",
    "    print('review: ', review.numpy()[:50])\n",
    "    print('label:', label.numpy())"
   ]
  },
  {
   "cell_type": "code",
   "execution_count": 119,
   "id": "5d3699bd-4ef5-4c5e-9a59-448aec7ec0a9",
   "metadata": {},
   "outputs": [
    {
     "name": "stdout",
     "output_type": "stream",
     "text": [
      "review: b\"Basically there's a family where a little boy (Jak\"\n",
      "label: b'negative'\n",
      "review: b'This show was an amazing, fresh & innovative idea '\n",
      "label: b'negative'\n",
      "review: b'One of the other reviewers has mentioned that afte'\n",
      "label: b'positive'\n",
      "review: b'A wonderful little production. <br /><br />The fil'\n",
      "label: b'positive'\n"
     ]
    }
   ],
   "source": [
    "review_ds_1 = review_ds.filter(lambda review, label: review!='')\n",
    "for review, label in review_ds_1.as_numpy_iterator():\n",
    "    print('review:', review[:50])\n",
    "    print('label:' , label)"
   ]
  },
  {
   "cell_type": "code",
   "execution_count": 125,
   "id": "1eb87f96-1c81-4f1e-9e74-2e309f22a201",
   "metadata": {},
   "outputs": [
    {
     "name": "stdout",
     "output_type": "stream",
     "text": [
      "review:  b\"Basically there's a family where a little boy (Jak\"\n",
      "Label:  b'negative'\n",
      "review:  b'This show was an amazing, fresh & innovative idea '\n",
      "Label:  b'negative'\n",
      "review:  b'One of the other reviewers has mentioned that afte'\n",
      "Label:  b'positive'\n",
      "review:  b'A wonderful little production. <br /><br />The fil'\n",
      "Label:  b'positive'\n"
     ]
    }
   ],
   "source": [
    "final_review_ds = tf_dataset.map(extract_review_and_label).filter(lambda review, label: review!='')\n",
    "for review, label in final_review_ds.as_numpy_iterator():\n",
    "    print('review: ', review[:50])\n",
    "    print('Label: ', label)"
   ]
  }
 ],
 "metadata": {
  "kernelspec": {
   "display_name": "Python [conda env:base] *",
   "language": "python",
   "name": "conda-base-py"
  },
  "language_info": {
   "codemirror_mode": {
    "name": "ipython",
    "version": 3
   },
   "file_extension": ".py",
   "mimetype": "text/x-python",
   "name": "python",
   "nbconvert_exporter": "python",
   "pygments_lexer": "ipython3",
   "version": "3.12.7"
  }
 },
 "nbformat": 4,
 "nbformat_minor": 5
}
