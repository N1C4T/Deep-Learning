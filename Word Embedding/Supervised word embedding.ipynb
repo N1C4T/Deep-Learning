{
 "cells": [
  {
   "cell_type": "code",
   "execution_count": 5,
   "id": "a43b0da5-e69c-4f22-8f73-ac3ce44c1789",
   "metadata": {},
   "outputs": [],
   "source": [
    "import numpy as np\n",
    "import tensorflow\n",
    "from tensorflow.keras.preprocessing.text import one_hot\n",
    "from tensorflow.keras.preprocessing.sequence import pad_sequences\n",
    "from tensorflow.keras.layers import Dense\n",
    "from tensorflow.keras.models import Sequential\n",
    "from tensorflow.keras.layers import Flatten\n",
    "from tensorflow.keras.layers import Embedding"
   ]
  },
  {
   "cell_type": "code",
   "execution_count": 7,
   "id": "4157ddf9-020e-4435-a67f-da9ef1e7220b",
   "metadata": {},
   "outputs": [],
   "source": [
    "reviews = ['nice food',\n",
    "           'amazing restaurant',\n",
    "           'too good',\n",
    "            'just loved it!',\n",
    "            'will go again',\n",
    "            'horrible food',\n",
    "            'never go there',\n",
    "            'poor service',\n",
    "            'poor quality',\n",
    "            'needs improvement']\n",
    "sentiment = np.array([1,1,1,1,1,0,0,0,0,0])"
   ]
  },
  {
   "cell_type": "code",
   "execution_count": 9,
   "id": "e2271156-21b4-4c7a-92b8-54dce9c2e3ac",
   "metadata": {},
   "outputs": [
    {
     "data": {
      "text/plain": [
       "[3, 11]"
      ]
     },
     "execution_count": 9,
     "metadata": {},
     "output_type": "execute_result"
    }
   ],
   "source": [
    "one_hot('amazing restaurant', 30)"
   ]
  },
  {
   "cell_type": "code",
   "execution_count": 15,
   "id": "8b5f1552-7b70-454f-b13b-b08e3d4060a2",
   "metadata": {},
   "outputs": [
    {
     "data": {
      "text/plain": [
       "[[17, 8],\n",
       " [3, 11],\n",
       " [12, 19],\n",
       " [12, 23, 9],\n",
       " [19, 9, 9],\n",
       " [1, 8],\n",
       " [27, 9, 4],\n",
       " [21, 20],\n",
       " [21, 27],\n",
       " [12, 9]]"
      ]
     },
     "execution_count": 15,
     "metadata": {},
     "output_type": "execute_result"
    }
   ],
   "source": [
    "voc_size = 30\n",
    "encoded_reviews = [one_hot(i, voc_size) for i in reviews]\n",
    "encoded_reviews"
   ]
  },
  {
   "cell_type": "code",
   "execution_count": 17,
   "id": "f505dbf6-0d4e-4a6e-b258-e74fb81eb7fb",
   "metadata": {},
   "outputs": [
    {
     "data": {
      "text/plain": [
       "array([[17,  8,  0],\n",
       "       [ 3, 11,  0],\n",
       "       [12, 19,  0],\n",
       "       [12, 23,  9],\n",
       "       [19,  9,  9],\n",
       "       [ 1,  8,  0],\n",
       "       [27,  9,  4],\n",
       "       [21, 20,  0],\n",
       "       [21, 27,  0],\n",
       "       [12,  9,  0]])"
      ]
     },
     "execution_count": 17,
     "metadata": {},
     "output_type": "execute_result"
    }
   ],
   "source": [
    "max_length = 3\n",
    "padded_reviews = pad_sequences(encoded_reviews, maxlen = max_length, padding = 'post')\n",
    "padded_reviews"
   ]
  },
  {
   "cell_type": "code",
   "execution_count": 23,
   "id": "ea965121-390e-4ab4-b0fb-e01def5da5d6",
   "metadata": {},
   "outputs": [],
   "source": [
    "vector_size = 4\n",
    "model = Sequential()\n",
    "model.add(Embedding(voc_size, vector_size, input_length = max_length, name = 'embedding'))\n",
    "model.add(Flatten())\n",
    "model.add(Dense(1, activation = 'sigmoid'))"
   ]
  },
  {
   "cell_type": "code",
   "execution_count": 25,
   "id": "f21acf2e-7965-4b6e-a07e-9af40ff78ce2",
   "metadata": {},
   "outputs": [],
   "source": [
    "X = padded_reviews\n",
    "y = sentiment"
   ]
  },
  {
   "cell_type": "code",
   "execution_count": 27,
   "id": "b3d6c6c6-d54b-4f32-b9a7-2bdcf2b99aec",
   "metadata": {},
   "outputs": [],
   "source": [
    "model.compile(optimizer = 'adam', loss = 'binary_crossentropy', metrics = ['accuracy'])\n"
   ]
  },
  {
   "cell_type": "code",
   "execution_count": 29,
   "id": "8c2b0bdf-f204-4a23-8756-624c44dfcd13",
   "metadata": {},
   "outputs": [
    {
     "data": {
      "text/plain": [
       "<keras.src.callbacks.history.History at 0x1836600a7b0>"
      ]
     },
     "execution_count": 29,
     "metadata": {},
     "output_type": "execute_result"
    }
   ],
   "source": [
    "model.fit(X, y, epochs = 50, verbose = 0 )"
   ]
  },
  {
   "cell_type": "code",
   "execution_count": 31,
   "id": "6824cc4a-7c67-4e15-b5ed-ca47fd9d85ff",
   "metadata": {},
   "outputs": [
    {
     "name": "stdout",
     "output_type": "stream",
     "text": [
      "\u001b[1m1/1\u001b[0m \u001b[32m━━━━━━━━━━━━━━━━━━━━\u001b[0m\u001b[37m\u001b[0m \u001b[1m0s\u001b[0m 140ms/step - accuracy: 1.0000 - loss: 0.6076\n"
     ]
    },
    {
     "data": {
      "text/plain": [
       "[0.607585608959198, 1.0]"
      ]
     },
     "execution_count": 31,
     "metadata": {},
     "output_type": "execute_result"
    }
   ],
   "source": [
    "model.evaluate(X, y)"
   ]
  },
  {
   "cell_type": "code",
   "execution_count": 51,
   "id": "148e3fcc-f201-46bc-8cf0-eaf2a82c7b2a",
   "metadata": {},
   "outputs": [
    {
     "data": {
      "text/plain": [
       "array([[ 0.03679855,  0.00821853, -0.01074356,  0.04723307],\n",
       "       [-0.0836292 ,  0.00334315,  0.06878307, -0.03048679],\n",
       "       [-0.00169349, -0.01877086,  0.00892848, -0.03372469],\n",
       "       [ 0.0942612 , -0.00255135, -0.00750796,  0.07500686],\n",
       "       [ 0.07118826,  0.01292477,  0.00094277,  0.02087026],\n",
       "       [ 0.03076627,  0.00204318, -0.04828128, -0.00729319],\n",
       "       [-0.02662395,  0.01552855, -0.01269063, -0.04273832],\n",
       "       [-0.04373714, -0.04116888,  0.04616351,  0.03775331],\n",
       "       [ 0.01228758, -0.03713009,  0.0104102 ,  0.04312124],\n",
       "       [-0.05583562, -0.08133569, -0.01344245, -0.04755702],\n",
       "       [-0.01530745, -0.03033668, -0.02096367, -0.0093495 ],\n",
       "       [ 0.08159832,  0.08276324, -0.013735  , -0.06426153],\n",
       "       [-0.00415449, -0.01280261, -0.05930109,  0.05460554],\n",
       "       [ 0.03309479,  0.02868462,  0.02666891,  0.03941942],\n",
       "       [-0.04978148, -0.03405644,  0.00655032,  0.04827428],\n",
       "       [ 0.03722758, -0.04836414,  0.04757092, -0.04909909],\n",
       "       [ 0.01228759, -0.01830332, -0.03235495, -0.02378265],\n",
       "       [ 0.08957838, -0.06691542, -0.03789336,  0.036252  ],\n",
       "       [-0.01464628,  0.03336558, -0.00411813, -0.04487887],\n",
       "       [ 0.10569773,  0.01548438, -0.08942467,  0.02665151],\n",
       "       [-0.07963574, -0.02522722,  0.0445045 ,  0.0875724 ],\n",
       "       [-0.05793059,  0.09182926,  0.1163369 , -0.11393894],\n",
       "       [-0.03071383,  0.02142281, -0.0321295 ,  0.02241658],\n",
       "       [ 0.01933331,  0.05062301, -0.09462288, -0.08901478],\n",
       "       [ 0.04500301, -0.02344956,  0.03478136, -0.04590379],\n",
       "       [-0.02442157,  0.03807307, -0.04442383, -0.0252312 ],\n",
       "       [ 0.02150769,  0.02802661,  0.00441391,  0.01115246],\n",
       "       [-0.0707703 , -0.07695125,  0.10896092, -0.03470628],\n",
       "       [ 0.02644701, -0.02490891, -0.00384622, -0.04001075],\n",
       "       [ 0.04732201,  0.00058804,  0.01845923, -0.01356993]],\n",
       "      dtype=float32)"
      ]
     },
     "execution_count": 51,
     "metadata": {},
     "output_type": "execute_result"
    }
   ],
   "source": [
    "weights = model.get_layer('embedding').get_weights()[0]\n",
    "weights"
   ]
  },
  {
   "cell_type": "code",
   "execution_count": 45,
   "id": "115fbe2a-8aae-490f-b8cc-a2a4820588c5",
   "metadata": {},
   "outputs": [
    {
     "data": {
      "text/plain": [
       "array([ 0.08957838, -0.06691542, -0.03789336,  0.036252  ], dtype=float32)"
      ]
     },
     "execution_count": 45,
     "metadata": {},
     "output_type": "execute_result"
    }
   ],
   "source": [
    "weights[17]"
   ]
  },
  {
   "cell_type": "code",
   "execution_count": 47,
   "id": "a1cb98ac-df74-467e-a2d1-1179402dd04b",
   "metadata": {},
   "outputs": [
    {
     "data": {
      "text/plain": [
       "array([ 0.0942612 , -0.00255135, -0.00750796,  0.07500686], dtype=float32)"
      ]
     },
     "execution_count": 47,
     "metadata": {},
     "output_type": "execute_result"
    }
   ],
   "source": [
    "weights[3]"
   ]
  }
 ],
 "metadata": {
  "kernelspec": {
   "display_name": "Python [conda env:base] *",
   "language": "python",
   "name": "conda-base-py"
  },
  "language_info": {
   "codemirror_mode": {
    "name": "ipython",
    "version": 3
   },
   "file_extension": ".py",
   "mimetype": "text/x-python",
   "name": "python",
   "nbconvert_exporter": "python",
   "pygments_lexer": "ipython3",
   "version": "3.12.7"
  }
 },
 "nbformat": 4,
 "nbformat_minor": 5
}
